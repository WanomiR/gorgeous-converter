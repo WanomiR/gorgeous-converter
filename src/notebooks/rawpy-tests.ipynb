{
 "cells": [
  {
   "cell_type": "code",
   "execution_count": 1,
   "id": "initial_id",
   "metadata": {
    "collapsed": true,
    "ExecuteTime": {
     "end_time": "2023-10-27T11:18:13.539993Z",
     "start_time": "2023-10-27T11:18:13.188416Z"
    }
   },
   "outputs": [],
   "source": [
    "%matplotlib inline\n",
    "import matplotlib as mpl\n",
    "from matplotlib.pyplot import imshow\n",
    "import rawpy as rp\n",
    "import PIL\n",
    "\n",
    "mpl.rcParams[\"figure.figsize\"] = 5, 10"
   ]
  },
  {
   "cell_type": "code",
   "execution_count": 2,
   "outputs": [],
   "source": [
    "path = \"../samples/DSC_0278.nef\"\n",
    "raw = rp.imread(path)"
   ],
   "metadata": {
    "collapsed": false,
    "ExecuteTime": {
     "end_time": "2023-10-27T11:18:13.540309Z",
     "start_time": "2023-10-27T11:18:13.530224Z"
    }
   },
   "id": "eefd4efdd10cb725"
  }
 ],
 "metadata": {
  "kernelspec": {
   "display_name": "Python 3",
   "language": "python",
   "name": "python3"
  },
  "language_info": {
   "codemirror_mode": {
    "name": "ipython",
    "version": 2
   },
   "file_extension": ".py",
   "mimetype": "text/x-python",
   "name": "python",
   "nbconvert_exporter": "python",
   "pygments_lexer": "ipython2",
   "version": "2.7.6"
  }
 },
 "nbformat": 4,
 "nbformat_minor": 5
}
