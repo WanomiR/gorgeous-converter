{
 "cells": [
  {
   "cell_type": "markdown",
   "source": [
    "### Imports"
   ],
   "metadata": {
    "collapsed": false
   },
   "id": "dfd2ded9bece5425"
  },
  {
   "cell_type": "code",
   "execution_count": 1,
   "id": "initial_id",
   "metadata": {
    "collapsed": true,
    "ExecuteTime": {
     "end_time": "2023-10-27T12:41:34.321349Z",
     "start_time": "2023-10-27T12:41:33.360517Z"
    }
   },
   "outputs": [],
   "source": [
    "import rawpy\n",
    "import colour\n",
    "import matplotlib as mpl\n",
    "import numpy as np\n",
    "from matplotlib.pyplot import imshow\n",
    "from scipy import signal\n",
    "from PIL import Image\n",
    "\n",
    "mpl.rcParams[\"figure.figsize\"] = 5, 10"
   ]
  },
  {
   "cell_type": "markdown",
   "source": [
    "### Variables"
   ],
   "metadata": {
    "collapsed": false
   },
   "id": "38d50f364757c73"
  },
  {
   "cell_type": "markdown",
   "source": [
    "## Raw Converter"
   ],
   "metadata": {
    "collapsed": false
   },
   "id": "11750879af27dad2"
  },
  {
   "cell_type": "code",
   "execution_count": 2,
   "outputs": [],
   "source": [
    "IMAGE_NAME = \"DSC_1967\"\n",
    "INPUT_PATH = \"../samples/\" + IMAGE_NAME + \".nef\"\n",
    "NOISE_SAMPLE_PATH = \"../samples/kodak-portra.npy\"\n",
    "\n",
    "EXP = 2"
   ],
   "metadata": {
    "collapsed": false,
    "ExecuteTime": {
     "end_time": "2023-10-27T12:41:34.330113Z",
     "start_time": "2023-10-27T12:41:34.322005Z"
    }
   },
   "id": "b16c0257da0f3929"
  },
  {
   "cell_type": "code",
   "execution_count": 3,
   "outputs": [
    {
     "name": "stdout",
     "output_type": "stream",
     "text": [
      "[1.734375, 1.0, 1.3125, 1.0]\n"
     ]
    }
   ],
   "source": [
    "sample = np.load(NOISE_SAMPLE_PATH)\n",
    "\n",
    "with rawpy.imread(INPUT_PATH) as raw:\n",
    "    rgb = raw.postprocess(\n",
    "        output_color=rawpy.ColorSpace(1), half_size=True,\n",
    "        use_camera_wb=True,  # user_wb=(1,1,1,1),\n",
    "        output_bps=16, no_auto_bright=True, no_auto_scale=False,\n",
    "        gamma=(1, 1), chromatic_aberration=(1, 1),\n",
    "    )\n",
    "\n",
    "    wb = raw.camera_whitebalance\n",
    "\n",
    "rgb = rgb.astype(np.float32)\n",
    "print(wb)"
   ],
   "metadata": {
    "collapsed": false,
    "ExecuteTime": {
     "end_time": "2023-10-27T12:41:34.738217Z",
     "start_time": "2023-10-27T12:41:34.325157Z"
    }
   },
   "id": "34469c7803cf8124"
  },
  {
   "cell_type": "code",
   "execution_count": 4,
   "outputs": [
    {
     "name": "stderr",
     "output_type": "stream",
     "text": [
      "Clipping input data to the valid range for imshow with RGB data ([0..1] for floats or [0..255] for integers).\n"
     ]
    },
    {
     "data": {
      "text/plain": "<matplotlib.image.AxesImage at 0x16d1695a0>"
     },
     "execution_count": 4,
     "metadata": {},
     "output_type": "execute_result"
    },
    {
     "data": {
      "text/plain": "<Figure size 500x1000 with 1 Axes>",
      "image/png": "[encoded data removed]"
     },
     "metadata": {},
     "output_type": "display_data"
    }
   ],
   "source": [
    "imshow(rgb)"
   ],
   "metadata": {
    "collapsed": false,
    "ExecuteTime": {
     "end_time": "2023-10-27T12:41:35.291473Z",
     "start_time": "2023-10-27T12:41:34.733403Z"
    }
   },
   "id": "bc6ac67b03a3487a"
  },
  {
   "cell_type": "code",
   "execution_count": 5,
   "outputs": [],
   "source": [
    "rgb_autoscale = (rgb * (50000 / np.average(rgb))) + 794"
   ],
   "metadata": {
    "collapsed": false,
    "ExecuteTime": {
     "end_time": "2023-10-27T12:41:35.304642Z",
     "start_time": "2023-10-27T12:41:35.288521Z"
    }
   },
   "id": "2e7dc209da121e12"
  },
  {
   "cell_type": "markdown",
   "source": [
    "Hyperbolic decay formula\n",
    "$$\\begin{cases}\n",
    "\\dfrac{(x - 1)^2 (kx + k + 1)}{(k + 1)(kx + 1)}, &x < 1\\\\\n",
    "0, &x \\ge 1\n",
    "\\end{cases}$$\n",
    "where $k>0$ is the decay coefficient."
   ],
   "metadata": {
    "collapsed": false
   },
   "id": "a53849c4b720043"
  },
  {
   "cell_type": "code",
   "execution_count": 6,
   "outputs": [],
   "source": [
    "def blur(size: int = 10, k: int = 50):\n",
    "    x = np.fabs(np.linspace(-size, size, size * 2 + 1) / size)\n",
    "    kernel_1d = (\n",
    "            (x - 1) ** 2 * ((x * k) + k + 1)\n",
    "            /\n",
    "            (k + 1) * (k * x + 1)\n",
    "    )\n",
    "\n",
    "    kernel_2d = np.outer(kernel_1d.T, kernel_1d.T)\n",
    "    summa = np.sum(kernel_2d)\n",
    "    kernel_2d = kernel_2d / summa\n",
    "    return kernel_2d"
   ],
   "metadata": {
    "collapsed": false,
    "ExecuteTime": {
     "end_time": "2023-10-27T12:41:35.310491Z",
     "start_time": "2023-10-27T12:41:35.305430Z"
    }
   },
   "id": "4f31aecedb50e18d"
  },
  {
   "cell_type": "code",
   "execution_count": 7,
   "outputs": [],
   "source": [
    "rgb_blur = np.dstack((\n",
    "    signal.convolve2d(rgb_autoscale[:, :, 0], blur(12, 25), 'same'),\n",
    "    signal.convolve2d(rgb_autoscale[:, :, 1], blur(5, 25), 'same'),\n",
    "    signal.convolve2d(rgb_autoscale[:, :, 2], blur(3, 25), 'same')\n",
    "))"
   ],
   "metadata": {
    "collapsed": false,
    "ExecuteTime": {
     "end_time": "2023-10-27T12:41:40.690697Z",
     "start_time": "2023-10-27T12:41:35.308286Z"
    }
   },
   "id": "a978503f31cf755"
  },
  {
   "cell_type": "code",
   "execution_count": 8,
   "outputs": [],
   "source": [
    "def grain(rgb1, amplify, sample):\n",
    "    grain = sample * amplify\n",
    "    print(np.average(sample))\n",
    "    grained = np.power(np.sqrt(np.sqrt(rgb1)) + grain, 4)\n",
    "    return grained"
   ],
   "metadata": {
    "collapsed": false,
    "ExecuteTime": {
     "end_time": "2023-10-27T12:41:40.711246Z",
     "start_time": "2023-10-27T12:41:40.691078Z"
    }
   },
   "id": "d36ac3c56fe4be41"
  },
  {
   "cell_type": "code",
   "execution_count": 9,
   "outputs": [],
   "source": [
    "rgblog = np.log10(rgb_blur)\n",
    "rgblog_1_0 = (\n",
    "        (rgblog - np.min(rgblog))\n",
    "        /\n",
    "        (np.max(rgblog) - np.min(rgblog))\n",
    ")"
   ],
   "metadata": {
    "collapsed": false,
    "ExecuteTime": {
     "end_time": "2023-10-27T12:41:40.800907Z",
     "start_time": "2023-10-27T12:41:40.693818Z"
    }
   },
   "id": "f4ea8928aae0b62f"
  },
  {
   "cell_type": "code",
   "execution_count": 10,
   "outputs": [],
   "source": [
    "np.save(\"../../out/\" + IMAGE_NAME + \".npy\", rgblog_1_0)"
   ],
   "metadata": {
    "collapsed": false,
    "ExecuteTime": {
     "end_time": "2023-10-27T12:41:40.827078Z",
     "start_time": "2023-10-27T12:41:40.801103Z"
    }
   },
   "id": "4defc7e3390704e9"
  },
  {
   "cell_type": "markdown",
   "source": [
    "## Do Film"
   ],
   "metadata": {
    "collapsed": false
   },
   "id": "dc083a323c295957"
  },
  {
   "cell_type": "code",
   "execution_count": 11,
   "outputs": [],
   "source": [
    "img = np.load(\"../../out/DSC_1967.npy\")"
   ],
   "metadata": {
    "collapsed": false,
    "ExecuteTime": {
     "end_time": "2023-10-27T12:41:40.860384Z",
     "start_time": "2023-10-27T12:41:40.825917Z"
    }
   },
   "id": "66b8eb8c67c6a6f5"
  },
  {
   "cell_type": "code",
   "execution_count": 12,
   "outputs": [],
   "source": [
    "END_A_PLUS = 2.5\n",
    "END_A_MINUS = 1\n",
    "END_B_PLUS = 1\n",
    "END_B_MINUS = 4\n",
    "\n",
    "SUT = .6\n",
    "CONT = 4\n",
    "WEIGHT = 254"
   ],
   "metadata": {
    "collapsed": false,
    "ExecuteTime": {
     "end_time": "2023-10-27T12:41:40.860784Z",
     "start_time": "2023-10-27T12:41:40.854849Z"
    }
   },
   "id": "22f590e9c06846af"
  },
  {
   "cell_type": "code",
   "execution_count": 13,
   "outputs": [
    {
     "name": "stdout",
     "output_type": "stream",
     "text": [
      "-0.07\n"
     ]
    }
   ],
   "source": [
    "ex_comp_auto = img - np.average(img) - 0.07\n",
    "print(np.average(ex_comp_auto))"
   ],
   "metadata": {
    "collapsed": false,
    "ExecuteTime": {
     "end_time": "2023-10-27T12:41:40.899147Z",
     "start_time": "2023-10-27T12:41:40.857843Z"
    }
   },
   "id": "c33da0311783737e"
  },
  {
   "cell_type": "code",
   "execution_count": 14,
   "outputs": [],
   "source": [
    "img_contrast = (\n",
    "        1\n",
    "        /\n",
    "        (1 + (np.power(10 ** CONT, -ex_comp_auto)))\n",
    ")\n",
    "\n",
    "img_contrast = colour.RGB_to_XYZ(\n",
    "    img_contrast,\n",
    "    'sRGB',\n",
    "    chromatic_adaptation_transform=None,\n",
    "    illuminant=None)\n",
    "\n",
    "to_ProLab = colour.XYZ_to_ProLab(img_contrast)"
   ],
   "metadata": {
    "collapsed": false,
    "ExecuteTime": {
     "end_time": "2023-10-27T12:41:41.617269Z",
     "start_time": "2023-10-27T12:41:40.900107Z"
    }
   },
   "id": "efbb95ef2293d2d6"
  },
  {
   "cell_type": "code",
   "execution_count": 15,
   "outputs": [
    {
     "name": "stdout",
     "output_type": "stream",
     "text": [
      "26.9519936093\n"
     ]
    }
   ],
   "source": [
    "to_ProLab[:, :, 1][np.where(to_ProLab[:, :, 1] < 0)] = ((2 / (1 + (\n",
    "    np.power((16 ** END_A_MINUS), -(((to_ProLab[:, :, 1][np.where(to_ProLab[:, :, 1] < 0)])) * SUT) / 100)))) - 1) * (\n",
    "                                                               100 / END_A_MINUS)  # a+ ибо обратились к 2 каналу где этот канал больше нуля\n",
    "to_ProLab[:, :, 1][np.where(to_ProLab[:, :, 1] >= 0)] = ((2 / (1 + (\n",
    "    np.power((16 ** END_B_PLUS), -((to_ProLab[:, :, 1][np.where(to_ProLab[:, :, 1] >= 0)]) * SUT) / 100)))) - 1) * (\n",
    "                                                                100 / END_A_PLUS)\n",
    "to_ProLab[:, :, 2][np.where(to_ProLab[:, :, 2] < 0)] = ((2 / (1 + (\n",
    "    np.power((16 ** END_B_MINUS), -((to_ProLab[:, :, 2][np.where(to_ProLab[:, :, 2] < 0)]) * SUT) / 100)))) - 1) * (\n",
    "                                                               100 / END_B_MINUS)\n",
    "to_ProLab[:, :, 2][np.where(to_ProLab[:, :, 2] >= 0)] = ((2 / (1 + (\n",
    "    np.power((16 ** END_B_PLUS), -((to_ProLab[:, :, 2][np.where(to_ProLab[:, :, 2] >= 0)]) * SUT) / 100)))) - 1) * (\n",
    "                                                                100 / END_B_PLUS)  # ((2/1+16**yx)-1)*100/y\n",
    "# to_ProLab[:,:,2]=((2/(1+(np.power((250**sut),-to_ProLab[:,:,2]/100))))-1)*45\n",
    "print(np.max(to_ProLab[:, :, 2]))"
   ],
   "metadata": {
    "collapsed": false,
    "ExecuteTime": {
     "end_time": "2023-10-27T12:41:42.007539Z",
     "start_time": "2023-10-27T12:41:41.620014Z"
    }
   },
   "id": "9488364f920922eb"
  },
  {
   "cell_type": "code",
   "execution_count": 16,
   "outputs": [],
   "source": [
    "to_XYZ = colour.ProLab_to_XYZ(to_ProLab)\n",
    "to_rgb = colour.XYZ_to_RGB(\n",
    "    to_XYZ, \n",
    "    'sRGB', \n",
    "    chromatic_adaptation_transform=None, \n",
    "    illuminant=None)\n",
    "\n",
    "to_sRgb = colour.RGB_to_RGB(to_XYZ, 'Adobe RGB (1998)', 'sRGB')"
   ],
   "metadata": {
    "collapsed": false,
    "ExecuteTime": {
     "end_time": "2023-10-27T12:41:42.735131Z",
     "start_time": "2023-10-27T12:41:42.002560Z"
    }
   },
   "id": "f1dbcaeb0423bc40"
  },
  {
   "cell_type": "code",
   "execution_count": 17,
   "outputs": [
    {
     "name": "stdout",
     "output_type": "stream",
     "text": [
      "1.0\n",
      "236.0\n"
     ]
    }
   ],
   "source": [
    "to_out = np.around(to_rgb * WEIGHT)\n",
    "\n",
    "print(np.min(to_out))\n",
    "print(np.max(to_out))\n",
    "\n",
    "to_out[np.where(to_out <= 0)] = 0\n",
    "to_out[np.where(to_out >= 255)] = 255\n",
    "\n",
    "out = to_out.astype(np.uint8)\n",
    "\n",
    "pill = Image.fromarray(out)\n",
    "pill.show()"
   ],
   "metadata": {
    "collapsed": false,
    "ExecuteTime": {
     "end_time": "2023-10-27T12:41:45.860583Z",
     "start_time": "2023-10-27T12:41:42.735630Z"
    }
   },
   "id": "a4299d5d3b2ab40b"
  },
  {
   "cell_type": "code",
   "execution_count": 17,
   "outputs": [],
   "source": [],
   "metadata": {
    "collapsed": false,
    "ExecuteTime": {
     "end_time": "2023-10-27T12:41:45.860833Z",
     "start_time": "2023-10-27T12:41:45.809315Z"
    }
   },
   "id": "856db999bd909795"
  }
 ],
 "metadata": {
  "kernelspec": {
   "display_name": "Python 3",
   "language": "python",
   "name": "python3"
  },
  "language_info": {
   "codemirror_mode": {
    "name": "ipython",
    "version": 2
   },
   "file_extension": ".py",
   "mimetype": "text/x-python",
   "name": "python",
   "nbconvert_exporter": "python",
   "pygments_lexer": "ipython2",
   "version": "2.7.6"
  }
 },
 "nbformat": 4,
 "nbformat_minor": 5
}
